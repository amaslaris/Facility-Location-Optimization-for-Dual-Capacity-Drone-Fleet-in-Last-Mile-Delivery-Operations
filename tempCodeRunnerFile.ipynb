# 4. The assigned drone type must be able to carry the package weight.
# def payload_capacity_small_rule(model, s, i, j):
#     return W[j] * model.ys[s, i, j] <= Ps

# model.payload_capacity_small = pyomo.Constraint(Ds, F, C, rule=payload_capacity_small_rule)

# def payload_capacity_large_rule(model, l, i, j):
#     return W[j] * model.yl[l, i, j] <= Pl

# model.payload_capacity_large = pyomo.Constraint(Dl, F, C, rule=payload_capacity_large_rule)

# # 5. S-type drones can only serve customers within Rs while L-type drones can serve customers within Rl
# def range_limit_small_rule(model, s, i, j):
#     return d[i][j] * model.ys[s, i, j] <= Rs

# model.range_limit_small = pyomo.Constraint(Ds, F, C, rule=range_limit_small_rule)

# def range_limit_large_rule(model, l, i, j):
#     return d[i][j] * model.yl[l, i, j] <= Rl

# model.range_limit_large = pyomo.Constraint(Dl, F, C, rule=range_limit_large_rule)